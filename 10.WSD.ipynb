{
 "cells": [
  {
   "cell_type": "code",
   "execution_count": 5,
   "id": "75dc99f9-dc7a-4b99-a4da-c8f7e4d3adcd",
   "metadata": {},
   "outputs": [],
   "source": [
    "from nltk.wsd import lesk\n",
    "from nltk.tokenize import word_tokenize"
   ]
  },
  {
   "cell_type": "code",
   "execution_count": 11,
   "id": "a9e24ca7-7f41-42ea-99c2-2b62cc84233a",
   "metadata": {},
   "outputs": [
    {
     "data": {
      "text/plain": [
       "'deliberate radiation or reflection of electromagnetic energy for the purpose of disrupting enemy use of electronic devices or systems'"
      ]
     },
     "execution_count": 11,
     "metadata": {},
     "output_type": "execute_result"
    }
   ],
   "source": [
    "a1= lesk(word_tokenize(\"This device is used to jam the signal\"),\"jam\")\n",
    "a1.definition()"
   ]
  },
  {
   "cell_type": "code",
   "execution_count": 12,
   "id": "1ff9132f-b4d3-495a-93af-ee49b6bc9206",
   "metadata": {},
   "outputs": [
    {
     "data": {
      "text/plain": [
       "'get stuck and immobilized'"
      ]
     },
     "execution_count": 12,
     "metadata": {},
     "output_type": "execute_result"
    }
   ],
   "source": [
    "a2=lesk(word_tokenize(\"It is a heavy traffic jam here. We are stuck at same place.\"),'jam')\n",
    "a2.definition()"
   ]
  },
  {
   "cell_type": "code",
   "execution_count": 17,
   "id": "e41f711c-2029-44bb-a504-bc1df934d6c5",
   "metadata": {},
   "outputs": [
    {
     "data": {
      "text/plain": [
       "'press tightly together or cram'"
      ]
     },
     "execution_count": 17,
     "metadata": {},
     "output_type": "execute_result"
    }
   ],
   "source": [
    "a1= lesk(word_tokenize(\"I like jim jam biscuit\"),\"jam\")\n",
    "a1.definition()"
   ]
  },
  {
   "cell_type": "code",
   "execution_count": 18,
   "id": "5c0956a5-5564-420a-849d-aa0086a57a05",
   "metadata": {},
   "outputs": [
    {
     "data": {
      "text/plain": [
       "'discover or come upon accidentally, suddenly, or unexpectedly; catch somebody doing something or in a certain state'"
      ]
     },
     "execution_count": 18,
     "metadata": {},
     "output_type": "execute_result"
    }
   ],
   "source": [
    "a1= lesk(word_tokenize(\"It was a good catch by the player\"),\"catch\")\n",
    "a1.definition()"
   ]
  },
  {
   "cell_type": "code",
   "execution_count": 19,
   "id": "080ea2c1-6f5a-42dc-b35c-28737b518451",
   "metadata": {},
   "outputs": [
    {
     "data": {
      "text/plain": [
       "'catch up with and possibly overtake'"
      ]
     },
     "execution_count": 19,
     "metadata": {},
     "output_type": "execute_result"
    }
   ],
   "source": [
    "a1= lesk(word_tokenize(\"you shoul catch that opportunity\"),\"catch\")\n",
    "a1.definition()"
   ]
  },
  {
   "cell_type": "code",
   "execution_count": 22,
   "id": "78cc3aa6-1cb1-490a-bb62-919debd01e16",
   "metadata": {},
   "outputs": [
    {
     "data": {
      "text/plain": [
       "'having a low or inadequate temperature or feeling a sensation of coldness or having been made cold by e.g. ice or refrigeration'"
      ]
     },
     "execution_count": 22,
     "metadata": {},
     "output_type": "execute_result"
    }
   ],
   "source": [
    "a1= lesk(word_tokenize(\"I catch cold in winter\"),\"cold\")\n",
    "a1.definition()"
   ]
  },
  {
   "cell_type": "code",
   "execution_count": 23,
   "id": "089f4d81-3ba9-4b3f-9604-cb72904c0d66",
   "metadata": {},
   "outputs": [
    {
     "data": {
      "text/plain": [
       "'prefer or wish to do something'"
      ]
     },
     "execution_count": 23,
     "metadata": {},
     "output_type": "execute_result"
    }
   ],
   "source": [
    "a1= lesk(word_tokenize(\"he like flowers\"),\"like\")\n",
    "a1.definition()"
   ]
  },
  {
   "cell_type": "code",
   "execution_count": 24,
   "id": "8b2bd87c-b694-44c1-975b-975620fdc47b",
   "metadata": {},
   "outputs": [
    {
     "data": {
      "text/plain": [
       "'a kind of person'"
      ]
     },
     "execution_count": 24,
     "metadata": {},
     "output_type": "execute_result"
    }
   ],
   "source": [
    "a1= lesk(word_tokenize(\"The association is like a bad combination\"),\"like\")\n",
    "a1.definition()"
   ]
  },
  {
   "cell_type": "code",
   "execution_count": 25,
   "id": "0281426d-6556-4d5d-bac8-6fa7cada655e",
   "metadata": {},
   "outputs": [
    {
     "data": {
      "text/plain": [
       "'the system whereby messages are transmitted via the post office'"
      ]
     },
     "execution_count": 25,
     "metadata": {},
     "output_type": "execute_result"
    }
   ],
   "source": [
    "a1= lesk(word_tokenize(\"He has sent the message by post\"),\"post\")\n",
    "a1.definition()"
   ]
  },
  {
   "cell_type": "code",
   "execution_count": 26,
   "id": "abcd8214-600e-48e4-aecd-32c727ad0961",
   "metadata": {},
   "outputs": [
    {
     "data": {
      "text/plain": [
       "'transfer (entries) from one account book to another'"
      ]
     },
     "execution_count": 26,
     "metadata": {},
     "output_type": "execute_result"
    }
   ],
   "source": [
    "a1 = lesk(word_tokenize(\"You can post it on your social media account\"),\"post\")\n",
    "a1.definition()"
   ]
  },
  {
   "cell_type": "code",
   "execution_count": 29,
   "id": "51363369-2173-4a96-a373-7a1a7ea15011",
   "metadata": {},
   "outputs": [
    {
     "data": {
      "text/plain": [
       "'a container (usually with a slot in the top) for keeping money at home'"
      ]
     },
     "execution_count": 29,
     "metadata": {},
     "output_type": "execute_result"
    }
   ],
   "source": [
    "a1= lesk(word_tokenize(\"I went to bank to deposit the money\"),\"bank\")\n",
    "a1.definition()"
   ]
  },
  {
   "cell_type": "code",
   "execution_count": 30,
   "id": "0b70cc93-f519-4662-af9d-6ca9c54f748c",
   "metadata": {},
   "outputs": [
    {
     "data": {
      "text/plain": [
       "'a slope in the turn of a road or track; the outside is higher than the inside in order to reduce the effects of centrifugal force'"
      ]
     },
     "execution_count": 30,
     "metadata": {},
     "output_type": "execute_result"
    }
   ],
   "source": [
    "a1= lesk(word_tokenize(\"His home is situated on the bank of river\"),\"bank\")\n",
    "a1.definition()"
   ]
  },
  {
   "cell_type": "code",
   "execution_count": null,
   "id": "8fe96831-c946-477f-8fc3-d248f54f1fe3",
   "metadata": {},
   "outputs": [],
   "source": []
  }
 ],
 "metadata": {
  "kernelspec": {
   "display_name": "Python 3 (ipykernel)",
   "language": "python",
   "name": "python3"
  },
  "language_info": {
   "codemirror_mode": {
    "name": "ipython",
    "version": 3
   },
   "file_extension": ".py",
   "mimetype": "text/x-python",
   "name": "python",
   "nbconvert_exporter": "python",
   "pygments_lexer": "ipython3",
   "version": "3.11.7"
  }
 },
 "nbformat": 4,
 "nbformat_minor": 5
}
