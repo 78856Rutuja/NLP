{
 "cells": [
  {
   "cell_type": "markdown",
   "id": "dd62deee-8e2b-41f9-bc30-f52f5b397f0f",
   "metadata": {},
   "source": [
    "# declare the words"
   ]
  },
  {
   "cell_type": "code",
   "execution_count": 8,
   "id": "addb4e88-05e7-49e4-b96e-cd9fb5df462e",
   "metadata": {},
   "outputs": [],
   "source": [
    "words1  = 'managing', 'manage', 'management', 'managerial', 'managed'\n",
    "\n",
    "words2 = 'worked' ,'workable', 'working', 'worked'\n",
    "\n",
    "words3 = 'big', 'biggest', 'bigger'\n",
    "\n",
    "words4 = 'go', 'gone', 'went', 'going'\n",
    "\n",
    "words5 = 'child', 'children'\n",
    "\n",
    "words6 = 'plays','playing','played','players'"
   ]
  },
  {
   "cell_type": "code",
   "execution_count": null,
   "id": "6e24dfdf-f541-431b-a475-9acb0e8b922c",
   "metadata": {},
   "outputs": [],
   "source": [
    "from nltk.stem import WordNetLemmatizer"
   ]
  },
  {
   "cell_type": "code",
   "execution_count": 4,
   "id": "29501464-8ffe-43be-86f8-53eeef0def05",
   "metadata": {},
   "outputs": [
    {
     "data": {
      "text/plain": [
       "'manage'"
      ]
     },
     "execution_count": 4,
     "metadata": {},
     "output_type": "execute_result"
    }
   ],
   "source": [
    "#create obj:\n",
    "wnl = WordNetLemmatizer()\n",
    "\n",
    "wnl.lemmatize(words1[0],pos='v')"
   ]
  },
  {
   "cell_type": "code",
   "execution_count": 17,
   "id": "e242a1e4-b55a-4513-9272-a0b77576c4ed",
   "metadata": {},
   "outputs": [
    {
     "name": "stdout",
     "output_type": "stream",
     "text": [
      "went ==> go\n",
      "biggest ==> big\n",
      "players ==> player\n",
      "children ==> child\n"
     ]
    }
   ],
   "source": [
    "print(words4[2],'==>',wnl.lemmatize(words4[2],pos='v'))\n",
    "print(words3[1],'==>',wnl.lemmatize(words3[1],pos='a'))\n",
    "print(words6[3],'==>',wnl.lemmatize(words6[3],pos='n'))\n",
    "print(words5[1],'==>',wnl.lemmatize(words5[1],pos='n'))"
   ]
  },
  {
   "cell_type": "code",
   "execution_count": null,
   "id": "6a0957f4-9d8a-426d-8361-0c4bfbe871f1",
   "metadata": {},
   "outputs": [],
   "source": []
  },
  {
   "cell_type": "code",
   "execution_count": null,
   "id": "36145a4e-1a5f-4d1e-8f4d-e4012c243972",
   "metadata": {},
   "outputs": [],
   "source": []
  }
 ],
 "metadata": {
  "kernelspec": {
   "display_name": "Python 3 (ipykernel)",
   "language": "python",
   "name": "python3"
  },
  "language_info": {
   "codemirror_mode": {
    "name": "ipython",
    "version": 3
   },
   "file_extension": ".py",
   "mimetype": "text/x-python",
   "name": "python",
   "nbconvert_exporter": "python",
   "pygments_lexer": "ipython3",
   "version": "3.11.7"
  }
 },
 "nbformat": 4,
 "nbformat_minor": 5
}
