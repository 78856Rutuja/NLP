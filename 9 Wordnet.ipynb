{
 "cells": [
  {
   "cell_type": "code",
   "execution_count": 1,
   "id": "56733b1c-514c-4c16-bce6-2b44da5bbc45",
   "metadata": {},
   "outputs": [],
   "source": [
    "from nltk.corpus import wordnet"
   ]
  },
  {
   "cell_type": "code",
   "execution_count": 2,
   "id": "47bef649-40d6-4018-a612-4f0ee1d89863",
   "metadata": {},
   "outputs": [
    {
     "data": {
      "text/plain": [
       "<WordNetCorpusReader in 'C:\\\\Users\\\\Administrator.DAI-PC2\\\\AppData\\\\Roaming\\\\nltk_data\\\\corpora\\\\wordnet.zip/wordnet/'>"
      ]
     },
     "execution_count": 2,
     "metadata": {},
     "output_type": "execute_result"
    }
   ],
   "source": [
    "wordnet"
   ]
  },
  {
   "cell_type": "markdown",
   "id": "b65d9f72-2e38-4495-a855-4c2fa914a6c9",
   "metadata": {},
   "source": [
    "#  find out all the synsets of the \"create\" word"
   ]
  },
  {
   "cell_type": "code",
   "execution_count": 3,
   "id": "52554a64-74df-4bc6-8787-f8ea7fa753da",
   "metadata": {},
   "outputs": [
    {
     "data": {
      "text/plain": [
       "[Synset('make.v.03'),\n",
       " Synset('create.v.02'),\n",
       " Synset('create.v.03'),\n",
       " Synset('create.v.04'),\n",
       " Synset('create.v.05'),\n",
       " Synset('produce.v.02')]"
      ]
     },
     "execution_count": 3,
     "metadata": {},
     "output_type": "execute_result"
    }
   ],
   "source": [
    "x = wordnet.synsets(\"create\")\n",
    "x"
   ]
  },
  {
   "cell_type": "markdown",
   "id": "28def811-ac9f-46ed-9b2c-3510edc10713",
   "metadata": {},
   "source": [
    "# Remove the duplication :"
   ]
  },
  {
   "cell_type": "code",
   "execution_count": 4,
   "id": "ca6e3faf-9565-4d8f-b32e-fd6b41a3cd24",
   "metadata": {},
   "outputs": [
    {
     "data": {
      "text/plain": [
       "{'create', 'make', 'produce'}"
      ]
     },
     "execution_count": 4,
     "metadata": {},
     "output_type": "execute_result"
    }
   ],
   "source": [
    "# to remove it ==> make it as set\n",
    "\n",
    "synonyms = set()\n",
    "\n",
    "for word in wordnet.synsets('create'):\n",
    "    synonyms.add(word.lemmas()[0].name())\n",
    "    #print(word.lemmas()[0].name())\n",
    "    \n",
    "synonyms"
   ]
  },
  {
   "cell_type": "code",
   "execution_count": 5,
   "id": "4d9f2239-d810-44bb-809e-6c76db3372bc",
   "metadata": {
    "scrolled": true
   },
   "outputs": [
    {
     "name": "stdout",
     "output_type": "stream",
     "text": [
      "good\n",
      "good\n",
      "good\n",
      "commodity\n",
      "good\n",
      "full\n",
      "good\n",
      "estimable\n",
      "beneficial\n",
      "good\n",
      "good\n",
      "adept\n",
      "good\n",
      "dear\n",
      "dependable\n",
      "good\n",
      "good\n",
      "effective\n",
      "good\n",
      "good\n",
      "good\n",
      "good\n",
      "good\n",
      "good\n",
      "good\n",
      "well\n",
      "thoroughly\n"
     ]
    }
   ],
   "source": [
    "synonyms = set()\n",
    "\n",
    "for word in wordnet.synsets('good'):\n",
    "    #synonyms.add(word.lemmas()[0].name())\n",
    "    print(word.lemmas()[0].name())\n",
    "    \n"
   ]
  },
  {
   "cell_type": "markdown",
   "id": "fcbb5633-54c6-4fcd-81aa-ce3b7e83d166",
   "metadata": {},
   "source": [
    "# Definition and example"
   ]
  },
  {
   "cell_type": "code",
   "execution_count": 6,
   "id": "2be2f42e-f22f-473e-9885-060a819e4e76",
   "metadata": {},
   "outputs": [
    {
     "name": "stdout",
     "output_type": "stream",
     "text": [
      "word and type: post.n.01\n",
      "Synonym: post\n",
      "The meaning of the word: the position where someone (as a guard or sentry) stands or is assigned to stand\n",
      "Example: ['a soldier manned the entrance post', 'a sentry station']\n"
     ]
    }
   ],
   "source": [
    "synset = wordnet.synsets(\"post\")\n",
    "\n",
    "print(\"word and type: \" + synset[0].name())\n",
    "\n",
    "print(\"Synonym: \" + synset[0].lemmas()[0].name())\n",
    "\n",
    "print(\"The meaning of the word: \" + synset[0].definition())\n",
    "\n",
    "print(\"Example: \" + str(synset[0].examples()))"
   ]
  },
  {
   "cell_type": "code",
   "execution_count": 7,
   "id": "055ed8f2-2fbf-4787-8471-69cb1e92936f",
   "metadata": {},
   "outputs": [
    {
     "name": "stdout",
     "output_type": "stream",
     "text": [
      "word and type: position.n.06\n",
      "Synonym: position\n",
      "The meaning of the word: a job in an organization\n",
      "Example: ['he occupied a post in the treasury']\n"
     ]
    }
   ],
   "source": [
    "synset = wordnet.synsets(\"post\")\n",
    "\n",
    "print(\"word and type: \" + synset[2].name())\n",
    "\n",
    "print(\"Synonym: \" + synset[2].lemmas()[0].name())\n",
    "\n",
    "print(\"The meaning of the word: \" + synset[2].definition())\n",
    "\n",
    "print(\"Example: \" + str(synset[2].examples()))"
   ]
  },
  {
   "cell_type": "code",
   "execution_count": 8,
   "id": "5fd0415f-a15c-45a5-94e4-45973be82ae3",
   "metadata": {},
   "outputs": [
    {
     "name": "stdout",
     "output_type": "stream",
     "text": [
      "word and type: post.n.06\n",
      "Synonym: Post\n",
      "The meaning of the word: United States female author who wrote a book and a syndicated newspaper column on etiquette (1872-1960)\n",
      "Example: []\n"
     ]
    }
   ],
   "source": [
    "synset = wordnet.synsets(\"post\")\n",
    "\n",
    "print(\"word and type: \" + synset[5].name())\n",
    "\n",
    "print(\"Synonym: \" + synset[5].lemmas()[0].name())\n",
    "\n",
    "print(\"The meaning of the word: \" + synset[5].definition())\n",
    "\n",
    "print(\"Example: \" + str(synset[5].examples()))"
   ]
  },
  {
   "cell_type": "code",
   "execution_count": 9,
   "id": "aee1755a-6fd8-4b1a-90b7-b867032508fe",
   "metadata": {},
   "outputs": [
    {
     "name": "stdout",
     "output_type": "stream",
     "text": [
      "word and type: post.n.09\n",
      "Synonym: post\n",
      "The meaning of the word: a pole or stake set up to mark something (as the start or end of a race track)\n",
      "Example: ['a pair of posts marked the goal', 'the corner of the lot was indicated by a stake']\n"
     ]
    }
   ],
   "source": [
    "synset = wordnet.synsets(\"post\")\n",
    "\n",
    "print(\"word and type: \" + synset[8].name())\n",
    "\n",
    "print(\"Synonym: \" + synset[8].lemmas()[0].name())\n",
    "\n",
    "print(\"The meaning of the word: \" + synset[8].definition())\n",
    "\n",
    "print(\"Example: \" + str(synset[8].examples()))"
   ]
  },
  {
   "cell_type": "code",
   "execution_count": 10,
   "id": "a3b02224-202f-4068-9bee-23fcba59673f",
   "metadata": {
    "scrolled": true
   },
   "outputs": [
    {
     "data": {
      "text/plain": [
       "[Synset('post.n.01'),\n",
       " Synset('military_post.n.01'),\n",
       " Synset('position.n.06'),\n",
       " Synset('post.n.04'),\n",
       " Synset('post.n.05'),\n",
       " Synset('post.n.06'),\n",
       " Synset('post.n.07'),\n",
       " Synset('mail.n.04'),\n",
       " Synset('post.n.09'),\n",
       " Synset('mail.n.02'),\n",
       " Synset('post.n.11'),\n",
       " Synset('post.v.01'),\n",
       " Synset('post.v.02'),\n",
       " Synset('post.v.03'),\n",
       " Synset('station.v.01'),\n",
       " Synset('post.v.05'),\n",
       " Synset('post.v.06'),\n",
       " Synset('post.v.07'),\n",
       " Synset('post.v.08'),\n",
       " Synset('stake.v.03'),\n",
       " Synset('post.v.10'),\n",
       " Synset('mail.v.02'),\n",
       " Synset('post.v.12')]"
      ]
     },
     "execution_count": 10,
     "metadata": {},
     "output_type": "execute_result"
    }
   ],
   "source": [
    "# print all the synset for the word \"post\":\n",
    "synset"
   ]
  },
  {
   "cell_type": "markdown",
   "id": "2755ef5b-93b4-47ca-afc8-c2c04a78c29d",
   "metadata": {},
   "source": [
    "# find synsets using pos :"
   ]
  },
  {
   "cell_type": "code",
   "execution_count": 11,
   "id": "9a29ee88-cc16-4eb5-9108-85d5a225c0f5",
   "metadata": {},
   "outputs": [
    {
     "name": "stdout",
     "output_type": "stream",
     "text": [
      "sound.v.01\n",
      "sound.v.02\n",
      "sound.v.03\n",
      "sound.v.04\n",
      "voice.v.02\n",
      "sound.v.06\n",
      "fathom.v.02\n"
     ]
    }
   ],
   "source": [
    "# extract all synsets which are verb only:\n",
    "\n",
    "for word in wordnet.synsets(\"sound\", pos = \"v\"):\n",
    "    print(word.name())"
   ]
  },
  {
   "cell_type": "markdown",
   "id": "bd5a4e6f-f0a8-42ba-8445-512a1a489938",
   "metadata": {},
   "source": [
    "# Read a word from user and print all meaning of it \n"
   ]
  },
  {
   "cell_type": "code",
   "execution_count": 23,
   "id": "299340eb-5d59-4936-ba3f-da4dd4bb71a1",
   "metadata": {},
   "outputs": [
    {
     "name": "stdin",
     "output_type": "stream",
     "text": [
      "enter the word to find the synsets:  hat\n"
     ]
    },
    {
     "name": "stdout",
     "output_type": "stream",
     "text": [
      "\n",
      "the meaning of the hat is:\n",
      "hat.n.01 ==> headdress that protects the head from bad weather; has shaped crown and usually a brim\n",
      "hat.n.02 ==> an informal term for a person's role\n",
      "hat.v.01 ==> put on or wear a hat\n",
      "hat.v.02 ==> furnish with a hat\n"
     ]
    }
   ],
   "source": [
    "word = input(\"enter the word to find the synsets: \")\n",
    "print(\"\\nthe meaning of the \" + word + \" is:\")\n",
    "\n",
    "for word in wordnet.synsets(word):\n",
    "    print(word.name(), \"==>\", word.definition())\n"
   ]
  },
  {
   "cell_type": "markdown",
   "id": "de72ff29-4b9a-4f05-bcb2-67837403ba41",
   "metadata": {},
   "source": [
    "# Read a word from user and print all noun meaning of it "
   ]
  },
  {
   "cell_type": "code",
   "execution_count": 22,
   "id": "eaa8abf3-d5b5-409e-a701-6765d9f68354",
   "metadata": {},
   "outputs": [
    {
     "name": "stdin",
     "output_type": "stream",
     "text": [
      "enter the word to find the synsets:  ball\n"
     ]
    },
    {
     "name": "stdout",
     "output_type": "stream",
     "text": [
      "\n",
      "the meaning of the ball is:\n",
      "ball.n.01 ==> round object that is hit or thrown or kicked in games\n",
      "musket_ball.n.01 ==> a solid projectile that is shot by a musket\n",
      "ball.n.03 ==> an object with a spherical shape\n",
      "ball.n.04 ==> the people assembled at a lavish formal dance\n",
      "testis.n.01 ==> one of the two male reproductive glands that produce spermatozoa and secrete androgens\n",
      "ball.n.06 ==> a spherical object used as a plaything\n",
      "ball.n.07 ==> United States comedienne best known as the star of a popular television program (1911-1989)\n",
      "ball.n.08 ==> a compact mass\n",
      "ball.n.09 ==> a lavish dance requiring formal attire\n",
      "ball.n.10 ==> a more or less rounded anatomical body or mass\n",
      "ball.n.11 ==> the game of baseball\n",
      "ball.n.12 ==> a pitch that is not in the strike zone\n"
     ]
    }
   ],
   "source": [
    "word = input(\"enter the word to find the synsets: \")\n",
    "print(\"\\nthe meaning of the \" + word + \" is:\")\n",
    "for word in wordnet.synsets(word, pos = \"n\"):\n",
    "    print(word.name(), \"==>\", word.definition())"
   ]
  },
  {
   "cell_type": "code",
   "execution_count": 36,
   "id": "81f25b3c-5b55-4fcf-864c-c9555c5ab993",
   "metadata": {},
   "outputs": [
    {
     "name": "stdout",
     "output_type": "stream",
     "text": [
      "the verbs are:  {'voice', 'sound', 'fathom'}\n",
      "the nouns are:  {'strait', 'audio', 'sound', 'phone'}\n",
      "the adjectives are:  {'legal', 'heavy', 'healthy', 'good', 'reasoned', 'sound'}\n"
     ]
    }
   ],
   "source": [
    "verbs = set()\n",
    "nouns = set()\n",
    "adj = set()\n",
    "\n",
    "for word in wordnet.synsets(\"sound\", pos = \"n\"):\n",
    "    nouns.add(word.lemmas()[0].name())\n",
    "\n",
    "for word in wordnet.synsets(\"sound\", pos = \"v\"):\n",
    "    verbs.add(word.lemmas()[0].name())\n",
    "\n",
    "for word in wordnet.synsets(\"sound\", pos = \"a\"):\n",
    "    adj.add(word.lemmas()[0].name())\n",
    "\n",
    "print(\"the verbs are: \",verbs)\n",
    "print(\"the nouns are: \",nouns)\n",
    "print(\"the adjectives are: \",adj)"
   ]
  },
  {
   "cell_type": "markdown",
   "id": "d5b8a189-d03f-4bb2-8a3c-2cd4e0b5145b",
   "metadata": {},
   "source": [
    "# Find the antonyms:"
   ]
  },
  {
   "cell_type": "code",
   "execution_count": 45,
   "id": "1b6de8d6-f33f-4108-885d-11807d393273",
   "metadata": {},
   "outputs": [
    {
     "name": "stdout",
     "output_type": "stream",
     "text": [
      "antonyms:  {'actual', 'impossible'}\n"
     ]
    }
   ],
   "source": [
    "ant = set()\n",
    "\n",
    "for synset in wordnet.synsets(\"possible\"):\n",
    "    for lemma in synset.lemmas():\n",
    "        #check antonyms are available:\n",
    "        if lemma.antonyms():\n",
    "            # if available, add them into the list\n",
    "            ant.add(lemma.antonyms()[0].name())\n",
    "print(\"antonyms: \", ant)"
   ]
  },
  {
   "cell_type": "markdown",
   "id": "69a92b90-f697-4626-a961-d97a39d67eeb",
   "metadata": {},
   "source": [
    "# extract the hypernyms:"
   ]
  },
  {
   "cell_type": "code",
   "execution_count": 64,
   "id": "8c6b849a-7c42-47db-b8e1-d00a039068cb",
   "metadata": {},
   "outputs": [],
   "source": [
    "word='soil'\n",
    "synsets=wordnet.synsets(word)"
   ]
  },
  {
   "cell_type": "code",
   "execution_count": 65,
   "id": "460ab693-c062-4d8d-af66-b46dd88155e5",
   "metadata": {},
   "outputs": [
    {
     "name": "stdout",
     "output_type": "stream",
     "text": [
      "soilis a hyponym of dirtiness.n.01\n",
      "soilis a hyponym of earth.n.02\n",
      "soilis a hyponym of object.n.01\n",
      "soilis a hyponym of geographical_area.n.01\n",
      "soilis a hyponym of change.v.01\n"
     ]
    }
   ],
   "source": [
    "for synset in synsets:\n",
    "    #Get hypernyms(parent concepts)\n",
    "    hypernyms=synset.hypernyms()\n",
    "    #check if there are any hypernyms\n",
    "    if hypernyms:\n",
    "        #print hypernyms (can access name property for text)\n",
    "        for hypernym in hypernyms:\n",
    "            print(f\"{word}is a hyponym of {hypernym.name()}\")"
   ]
  },
  {
   "cell_type": "code",
   "execution_count": 78,
   "id": "d48298d7-0f19-4df0-befb-4ebfb843df24",
   "metadata": {},
   "outputs": [
    {
     "name": "stdout",
     "output_type": "stream",
     "text": [
      "soilhas a meronym: running_head.n.01\n",
      "soilhas a meronym: signature.n.05\n",
      "soilhas a meronym: binding.n.05\n",
      "soilhas a meronym: fore_edge.n.01\n",
      "soilhas a meronym: spine.n.04\n",
      "soilhas a meronym: rule.n.03\n",
      "soilhas a meronym: rule.n.08\n",
      "soilhas a meronym: sura.n.01\n",
      "soilhas a meronym: new_testament.n.01\n",
      "soilhas a meronym: old_testament.n.01\n",
      "soilhas a meronym: testament.n.04\n",
      "soilhas a meronym: text.n.02\n"
     ]
    }
   ],
   "source": [
    "##Extract the meronyms\n",
    "\n",
    "synsets=wordnet.synsets(\"book\")\n",
    "for synset in synsets:\n",
    "    #Get member meronyms(components parts)\n",
    "    meronyms=synset.part_meronyms()\n",
    "    #check if there are any meronyms\n",
    "    if meronyms:\n",
    "        #print meronyms (can access name property for text)\n",
    "        for meronym in meronyms:\n",
    "            print(f\"{word}has a meronym: {meronym.name()}\")"
   ]
  },
  {
   "cell_type": "code",
   "execution_count": null,
   "id": "f03c4859-6928-4f26-ad42-72fe03e99d75",
   "metadata": {},
   "outputs": [],
   "source": []
  }
 ],
 "metadata": {
  "kernelspec": {
   "display_name": "Python 3 (ipykernel)",
   "language": "python",
   "name": "python3"
  },
  "language_info": {
   "codemirror_mode": {
    "name": "ipython",
    "version": 3
   },
   "file_extension": ".py",
   "mimetype": "text/x-python",
   "name": "python",
   "nbconvert_exporter": "python",
   "pygments_lexer": "ipython3",
   "version": "3.11.7"
  }
 },
 "nbformat": 4,
 "nbformat_minor": 5
}
